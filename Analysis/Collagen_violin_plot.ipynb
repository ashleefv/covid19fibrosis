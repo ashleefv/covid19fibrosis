{
 "cells": [
  {
   "cell_type": "markdown",
   "id": "85433209",
   "metadata": {},
   "source": [
    "### Collagen violin plot\n",
    "\n",
    "This file will generate the violin plots to compare end point statistics for multiple cases.\n",
    "\n",
    "### Importing required files and libraries"
   ]
  },
  {
   "cell_type": "code",
   "execution_count": 1,
   "id": "75c32d3c",
   "metadata": {},
   "outputs": [
    {
     "name": "stderr",
     "output_type": "stream",
     "text": [
      "Traceback (most recent call last):\n",
      "  File \"C:\\Program Files\\Python39\\lib\\runpy.py\", line 197, in _run_module_as_main\n",
      "    return _run_code(code, main_globals, None,\n",
      "  File \"C:\\Program Files\\Python39\\lib\\runpy.py\", line 87, in _run_code\n",
      "    exec(code, run_globals)\n",
      "  File \"C:\\Program Files\\Python39\\Scripts\\pip.exe\\__main__.py\", line 4, in <module>\n",
      "ModuleNotFoundError: No module named 'pip'\n"
     ]
    },
    {
     "ename": "ModuleNotFoundError",
     "evalue": "No module named 'statannot'",
     "output_type": "error",
     "traceback": [
      "\u001b[1;31m---------------------------------------------------------------------------\u001b[0m",
      "\u001b[1;31mModuleNotFoundError\u001b[0m                       Traceback (most recent call last)",
      "\u001b[1;32m~\\AppData\\Local\\Temp/ipykernel_27580/4026952533.py\u001b[0m in \u001b[0;36m<module>\u001b[1;34m\u001b[0m\n\u001b[0;32m      8\u001b[0m \u001b[1;32mimport\u001b[0m \u001b[0mseaborn\u001b[0m \u001b[1;32mas\u001b[0m \u001b[0msns\u001b[0m\u001b[1;33m\u001b[0m\u001b[1;33m\u001b[0m\u001b[0m\n\u001b[0;32m      9\u001b[0m \u001b[0mget_ipython\u001b[0m\u001b[1;33m(\u001b[0m\u001b[1;33m)\u001b[0m\u001b[1;33m.\u001b[0m\u001b[0msystem\u001b[0m\u001b[1;33m(\u001b[0m\u001b[1;34m'pip install statannot'\u001b[0m\u001b[1;33m)\u001b[0m\u001b[1;33m\u001b[0m\u001b[1;33m\u001b[0m\u001b[0m\n\u001b[1;32m---> 10\u001b[1;33m \u001b[1;32mfrom\u001b[0m \u001b[0mstatannot\u001b[0m \u001b[1;32mimport\u001b[0m \u001b[0madd_stat_annotation\u001b[0m\u001b[1;33m\u001b[0m\u001b[1;33m\u001b[0m\u001b[0m\n\u001b[0m\u001b[0;32m     11\u001b[0m \u001b[1;32mimport\u001b[0m \u001b[0mpandas\u001b[0m \u001b[1;32mas\u001b[0m \u001b[0mpd\u001b[0m\u001b[1;33m\u001b[0m\u001b[1;33m\u001b[0m\u001b[0m\n\u001b[0;32m     12\u001b[0m \u001b[1;33m\u001b[0m\u001b[0m\n",
      "\u001b[1;31mModuleNotFoundError\u001b[0m: No module named 'statannot'"
     ]
    }
   ],
   "source": [
    "import glob\n",
    "%matplotlib inline\n",
    "import matplotlib\n",
    "import matplotlib.pyplot as plt\n",
    "import numpy as np\n",
    "import random, pickle\n",
    "import os\n",
    "import seaborn as sns\n",
    "!pip install statannot\n",
    "from statannot import add_stat_annotation\n",
    "import pandas as pd\n",
    "\n",
    "root_directory = os.getcwd()\n",
    "path = root_directory + '\\\\' + '\\Collagen_violin_data'\n",
    "try:\n",
    "    os.chdir(path)\n",
    "except:\n",
    "    print('Collagen_violin_data folder')"
   ]
  },
  {
   "cell_type": "markdown",
   "id": "d8709699",
   "metadata": {},
   "source": [
    "### Loading data\n",
    "\n",
    "End point data for 11 cases with 15 replications are saved in the folder [Collagen_violin_data].\n",
    "\n",
    "[Collagen_violin_data]: https://github.com/ashleefv/covid19fibrosis/tree/master/Analysis/Collagen_violin_data"
   ]
  },
  {
   "cell_type": "code",
   "execution_count": null,
   "id": "738938ea",
   "metadata": {},
   "outputs": [],
   "source": [
    "DM = np.array(pickle.load(open('DM.p', 'rb')))\n",
    "D = np.array(pickle.load(open('D.p', 'rb')))\n",
    "M = np.array(pickle.load(open('M.p', 'rb')))\n",
    "DHMH = np.array(pickle.load(open('DHMH.p', 'rb')))\n",
    "DLML = np.array(pickle.load(open('DLML.p', 'rb')))\n",
    "DHML = np.array(pickle.load(open('DHML.p', 'rb')))\n",
    "DLMH = np.array(pickle.load(open('DLMH.p', 'rb')))\n",
    "DA = np.array(pickle.load(open('DA.p', 'rb')))\n",
    "MA = np.array(pickle.load(open('MA.p', 'rb')))\n",
    "DAU = np.array(pickle.load(open('DAU.p', 'rb')))\n",
    "MAU = np.array(pickle.load(open('MAU.p', 'rb')))"
   ]
  },
  {
   "cell_type": "markdown",
   "id": "bd180d03",
   "metadata": {},
   "source": [
    "### Generating output without fibroblasts TGF-β uptake cases"
   ]
  },
  {
   "cell_type": "code",
   "execution_count": null,
   "id": "68b3d32e",
   "metadata": {},
   "outputs": [],
   "source": [
    "os.chdir(root_directory)\n",
    "x_data = np.array(['DM','D', 'M', 'DHMH', 'DLML', 'DHML', 'DLMH', 'DA', 'MA'])\n",
    "y_data = np.array([DM, D, M, DHMH, DLML, DHML, DLMH, DA, MA])\n",
    "\n",
    "y_data = np.transpose(y_data)\n",
    "y_mean = np.mean(y_data, axis=0)\n",
    "\n",
    "sns.set_theme(style=\"whitegrid\", font_scale=1.5)\n",
    "ax = sns.violinplot(data=y_data, color=\"white\")\n",
    "ax.set_xticklabels(x_data,fontsize=13)\n",
    "ax.set_ylabel(\"Collagen area fraction\",fontsize=15)\n",
    "\n",
    "for i in range(len(DM)):\n",
    "    plt.scatter(x=range(len(y_mean)),y=y_data[:][i], c=\"red\")\n",
    "\n",
    "    \n",
    "ax.set(ylim=(-0.01, 0.45))\n",
    "upper_th = 0.38\n",
    "lower_th = 0.02\n",
    "# Fill in area under the curve and the horizontal lines\n",
    "ax.fill_between(x=x_data, y1=upper_th, y2=lower_th, color='blue',  interpolate=True, alpha=.02)\n",
    "\n",
    "# Horizontal lines\n",
    "ax.axhline(upper_th, linestyle='--', color='black', label=\"upper_th: 0.5\")\n",
    "ax.axhline(lower_th, linestyle='--', color='black', label='lower_th: - 0.5')\n",
    "\n",
    "\n",
    "# statistical analysis using statannot package (https://github.com/webermarcolivier/statannot)\n",
    "x_data1 = [x_data, x_data, x_data, x_data, x_data, x_data, x_data, x_data, x_data, x_data, x_data, x_data, x_data, x_data, x_data]\n",
    "x_data1 = np.ravel(x_data1)\n",
    "y_data1 = np.ravel(y_data)\n",
    "\n",
    "df1 = pd.DataFrame({'x':x_data1, 'y':y_data1})\n",
    "\n",
    "x = \"x\"\n",
    "y = \"y\"\n",
    "\n",
    "order =  ['DM','D', 'M', 'DHMH', 'DLMH', 'DHML', 'DLML', 'DA', 'MA']\n",
    "\n",
    "add_stat_annotation(ax, data=df1, x=x, y=y, order=order,\n",
    "                    box_pairs=[(\"DM\", \"D\"),(\"DM\", \"M\"), (\"D\", \"M\"), (\"DHMH\", \"DLMH\"), (\"DLMH\", \"DHML\"), (\"DHML\", \"DLML\"), (\"DA\", \"MA\")],\n",
    "                    test='Mann-Whitney', text_format='star', loc='outside', verbose=2)\n",
    "\n",
    "    \n",
    "plt.savefig(\"Collagen_violin.png\", dpi=300, bbox_inches='tight')\n",
    "plt.show()"
   ]
  },
  {
   "cell_type": "markdown",
   "id": "aa38d1f1",
   "metadata": {},
   "source": [
    "### Generating output to study the effect of fibroblasts TGF-β uptake (DAU and MAU)"
   ]
  },
  {
   "cell_type": "code",
   "execution_count": null,
   "id": "e9fa93c5",
   "metadata": {},
   "outputs": [],
   "source": [
    "x_data = np.array(['D','DA', 'DAU', 'M', 'MA', 'MAU'])\n",
    "y_data = np.array([D, DA, DAU, M, MA, MAU])\n",
    "\n",
    "y_data = np.transpose(y_data)\n",
    "y_mean = np.mean(y_data, axis=0)\n",
    "\n",
    "sns.set_theme(style=\"whitegrid\")\n",
    "sns.set(font_scale = 1.5)\n",
    "ax = sns.violinplot(data=y_data, color=\"white\")\n",
    "ax.set_xticklabels(x_data,fontsize=13)\n",
    "ax.set_ylabel(\"Collagen area fraction\",fontsize=15)\n",
    "\n",
    "for i in range(len(D)):\n",
    "    plt.scatter(x=range(len(y_mean)),y=y_data[:][i], c=\"red\")\n",
    "\n",
    "ax.set(ylim=(-0.01, 0.45))\n",
    "# statistical analysis using statannot package (https://github.com/webermarcolivier/statannot)\n",
    "x_data1 = [x_data, x_data, x_data, x_data, x_data, x_data, x_data, x_data, x_data, x_data, x_data, x_data, x_data, x_data, x_data]\n",
    "x_data1 = np.ravel(x_data1)\n",
    "y_data1 = np.ravel(y_data)\n",
    "\n",
    "df1 = pd.DataFrame({'x':x_data1, 'y':y_data1})\n",
    "\n",
    "x = \"x\"\n",
    "y = \"y\"\n",
    "\n",
    "order =  ['D','DA', 'DAU', 'M', 'MA', 'MAU']\n",
    "\n",
    "add_stat_annotation(ax, data=df1, x=x, y=y, order=order,\n",
    "                    box_pairs=[(\"D\", \"DA\"),(\"DA\", \"DAU\"), (\"M\", \"MA\"), (\"MA\", \"MAU\")],\n",
    "                    test='Mann-Whitney', text_format='star', loc='outside', verbose=2)\n",
    "\n",
    "    \n",
    "plt.savefig(\"Collagen_violin_with_fibroblast_uptake.png\", dpi=300, bbox_inches='tight')\n",
    "plt.show()\n"
   ]
  }
 ],
 "metadata": {
  "kernelspec": {
   "display_name": "Python 3 (ipykernel)",
   "language": "python",
   "name": "python3"
  },
  "language_info": {
   "codemirror_mode": {
    "name": "ipython",
    "version": 3
   },
   "file_extension": ".py",
   "mimetype": "text/x-python",
   "name": "python",
   "nbconvert_exporter": "python",
   "pygments_lexer": "ipython3",
   "version": "3.9.7"
  }
 },
 "nbformat": 4,
 "nbformat_minor": 5
}
