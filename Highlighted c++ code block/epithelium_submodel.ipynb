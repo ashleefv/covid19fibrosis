{
 "cells": [
  {
   "cell_type": "markdown",
   "id": "8eb9ab9a",
   "metadata": {},
   "source": [
    "### epithelium_submodel.cpp"
   ]
  },
  {
   "cell_type": "markdown",
   "id": "1a7f56de",
   "metadata": {},
   "source": [
    "#### From lines 10-37: Functions to create a secreting agent at the site and time of epithelial cell death\n",
    "\n",
    "```c++\n",
    "void create_secreting_agent( Cell_Definition* pCD, double positionpass0, double positionpass1)\n",
    "{\n",
    "\tstd::vector<double> positionpass = {0,0,0};\n",
    "\tpositionpass[0]=positionpass0;\n",
    "\tpositionpass[1]=positionpass1;\n",
    "\n",
    "\tCell* pC = create_cell( *pCD );\n",
    "\n",
    "\tpC->assign_position( positionpass );\n",
    "\tpC->is_movable = false;\n",
    "\n",
    "\treturn;\n",
    "}\n",
    "\n",
    "void create_secreting_agentcall(double positionpass0, double positionpass1)\n",
    "{\n",
    "\tstatic Cell_Definition* pCD = find_cell_definition( \"residual\" );\n",
    "\tcreate_secreting_agent( pCD, positionpass0, positionpass1 );\n",
    "\n",
    "\treturn;\n",
    "}\n",
    "```"
   ]
  },
  {
   "cell_type": "markdown",
   "id": "f1036816",
   "metadata": {},
   "source": [
    "#### From lines 70-79: Calling the function when epithelial cell's death is confirmed\n",
    "\n",
    "```c++\n",
    "if( phenotype.death.dead == true )\n",
    "\t{\n",
    "\t\tphenotype.secretion.secretion_rates[debris_index] = pCell->custom_data[\"debris_secretion_rate\"];\n",
    "\t\tdouble positionpass0=pCell->position[0];\n",
    "\t\tdouble positionpass1=pCell->position[1];\n",
    "\t\tcreate_secreting_agentcall(positionpass0, positionpass1);\n",
    "\t}\n",
    "```"
   ]
  }
 ],
 "metadata": {
  "kernelspec": {
   "display_name": "Python 3 (ipykernel)",
   "language": "python",
   "name": "python3"
  },
  "language_info": {
   "codemirror_mode": {
    "name": "ipython",
    "version": 3
   },
   "file_extension": ".py",
   "mimetype": "text/x-python",
   "name": "python",
   "nbconvert_exporter": "python",
   "pygments_lexer": "ipython3",
   "version": "3.9.7"
  }
 },
 "nbformat": 4,
 "nbformat_minor": 5
}
