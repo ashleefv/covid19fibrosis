{
 "cells": [
  {
   "cell_type": "markdown",
   "id": "a662e7ae",
   "metadata": {},
   "source": [
    "### PhysiCell_settings.xml"
   ]
  },
  {
   "cell_type": "markdown",
   "id": "f2c96082",
   "metadata": {},
   "source": [
    "#### From lines 194-210: Transport parameters and boundary conditions for TGF-β (anti-inflammatory cytokine) and collagen\n",
    "\n",
    "```c++\n",
    "<variable name=\"anti-inflammatory cytokine\" units=\"mol/micron^3\" ID=\"7\">\n",
    "\t\t\t<physical_parameter_set>\n",
    "\t\t\t\t<diffusion_coefficient units=\"micron^2/min\">3000</diffusion_coefficient>\n",
    "\t\t\t\t<decay_rate units=\"1/min\">1.04e-2</decay_rate>\n",
    "\t\t\t</physical_parameter_set>\n",
    "\t\t\t<initial_condition units=\"mol/micron^3\">0</initial_condition>\n",
    "\t\t\t<Dirichlet_boundary_condition units=\"mol/micron^3\" enabled=\"false\">0</Dirichlet_boundary_condition>\n",
    "\t\t</variable>\n",
    "\n",
    "\t\t<variable name=\"collagen\" units=\"mol/micron^3\" ID=\"8\">\n",
    "\t\t\t<physical_parameter_set>\n",
    "\t\t\t\t<diffusion_coefficient units=\"micron^2/min\">0</diffusion_coefficient> \n",
    "\t\t\t\t<decay_rate units=\"1/min\">0</decay_rate>\n",
    "\t\t\t</physical_parameter_set>\n",
    "\t\t\t<initial_condition units=\"mol/micron^3\">0</initial_condition>\n",
    "\t\t\t<Dirichlet_boundary_condition units=\"mol/micron^3\" enabled=\"false\">0</Dirichlet_boundary_condition>\n",
    "\t\t</variable>\n",
    "```"
   ]
  },
  {
   "cell_type": "markdown",
   "id": "7a72e4cd",
   "metadata": {},
   "source": [
    "#### From lines 575-578: Production rates of TGF-β from damaged sites and macrophages\n",
    "\n",
    "```c++\n",
    "<antiinflammatory_cytokine_secretion_rate_by_damagedSite units=\"1/min\" type=\"double\" \n",
    "\t\t\t\t\tdescription=\"secretion rate of anti-inflammatory from infected epithelium cell\">2e-9</antiinflammatory_cytokine_secretion_rate_by_damagedSite>\n",
    "\t\t\t\t<antiinflammatory_cytokine_secretion_rate_by_macrophage units=\"1/min\" type=\"double\" \n",
    "\t\t\t\t\tdescription=\"secretion rate of anti-inflammatory from macrophage\">2e-9</antiinflammatory_cytokine_secretion_rate_by_macrophage>\n",
    "```"
   ]
  },
  {
   "cell_type": "markdown",
   "id": "d205c434",
   "metadata": {},
   "source": [
    "#### From lines  875-913: Properties of fibroblasts\n",
    "\n",
    "```c++\n",
    "\t\t<cell_definition name=\"fibroblast\" parent_type=\"immune\" ID=\"8\">\n",
    "\t\t\t<phenotype>\n",
    "\t\t\t\t<death>\n",
    "\t\t\t\t\t<model code=\"100\" name=\"apoptosis\"> \n",
    "\t\t\t\t\t\t<death_rate units=\"1/min\">8.3e-5</death_rate> <!-- 5e-4 -->\n",
    "\t\t\t\t\t</model>\n",
    "\t\t\t\t</death>\n",
    "\t\t\t\t<motility>\n",
    "\t\t\t\t\t<speed units=\"micron/min\">1</speed>\n",
    "\t\t\t\t\t<persistence_time units=\"min\">5</persistence_time>\n",
    "\t\t\t\t\t<migration_bias units=\"dimensionless\">0.70</migration_bias>\n",
    "\t\t\t\t\t<options>\n",
    "\t\t\t\t\t\t<enabled>true</enabled>\n",
    "\t\t\t\t\t\t<use_2D>true</use_2D>\n",
    "\t\t\t\t\t\t<chemotaxis>\n",
    "\t\t\t\t\t\t\t<enabled>true</enabled>\n",
    "\t\t\t\t\t\t\t<substrate>anti-inflammatory cytokine</substrate>\n",
    "\t\t\t\t\t\t\t<direction>1</direction>\n",
    "\t\t\t\t\t\t</chemotaxis>\n",
    "\t\t\t\t\t</options>\n",
    "\t\t\t\t</motility>\n",
    "\n",
    "\t\t\t\t<volume>\n",
    "\t\t\t\t\t<total units=\"micron^3\">2500</total>\n",
    "\t\t\t\t\t<nuclear units=\"micron^3\">500</nuclear>\n",
    "\t\t\t\t</volume>\n",
    "\n",
    "\t\t\t\t<secretion>\n",
    "\t\t\t\t\t<substrate name=\"anti-inflammatory cytokine\">\n",
    "\t\t\t\t\t\t<uptake_rate units=\"1/min\">0</uptake_rate>\n",
    "\t\t\t\t\t</substrate> \t\n",
    "\t\t\t\t\t<substrate name=\"collagen\">\n",
    "\t\t\t\t\t\t<uptake_rate units=\"1/min\">0</uptake_rate>\n",
    "\t\t\t\t\t</substrate> \t\n",
    "\t\t\t\t</secretion>\n",
    "\t\t\t</phenotype>\n",
    "\t\t\t<custom_data>\n",
    "\t\t\t</custom_data>\n",
    "\t\t</cell_definition>\n",
    "```"
   ]
  },
  {
   "cell_type": "markdown",
   "id": "66c80f43",
   "metadata": {},
   "source": [
    "#### From lines  915-953: Properties of damaged sites (termed as residual in the simulation)\n",
    "\n",
    "death rate of the residual agent (AT in Table 2) was changed to control the duration of activation of TGF-β\n",
    "\n",
    "```c++\n",
    "<cell_definition name=\"residual\" parent_type=\"default\" ID=\"9\">\n",
    "\t\t\t<phenotype>\n",
    "\t\t\t\t<mechanics> \n",
    "\t\t\t\t\t<cell_cell_adhesion_strength units=\"micron/min\">0</cell_cell_adhesion_strength>\n",
    "\t\t\t\t\t<cell_cell_repulsion_strength units=\"micron/min\">0</cell_cell_repulsion_strength>\n",
    "\t\t\t\t</mechanics>\n",
    "\t\t\t\t<death>\n",
    "\t\t\t\t\t<model code=\"100\" name=\"apoptosis\"> \n",
    "\t\t\t\t\t\t<death_rate units=\"1/min\">0.001</death_rate> <!-- 5e-4 -->\n",
    "\t\t\t\t\t</model> \n",
    "\t\t\t\t</death>\n",
    "\t\t\t\t<motility>  \n",
    "\t\t\t\t\t<speed units=\"micron/min\">0</speed>\n",
    "\t\t\t\t\t<persistence_time units=\"min\">5</persistence_time>\n",
    "\t\t\t\t\t<migration_bias units=\"dimensionless\">0</migration_bias>\n",
    "\t\t\t\t\t<options>\n",
    "\t\t\t\t\t\t<enabled>false</enabled>\n",
    "\t\t\t\t\t\t<use_2D>true</use_2D>\n",
    "\t\t\t\t\t\t<chemotaxis>\n",
    "\t\t\t\t\t\t\t<enabled>false</enabled>\n",
    "\t\t\t\t\t\t\t<substrate>chemokine</substrate>\n",
    "\t\t\t\t\t\t\t<direction>1</direction>\n",
    "\t\t\t\t\t\t</chemotaxis>\n",
    "\t\t\t\t\t</options>\n",
    "\t\t\t\t</motility>\n",
    "\t\t\t\t\n",
    "\t\t\t\t<secretion>\n",
    "\t\t\t\t\t<substrate name=\"chemokine\">\n",
    "\t\t\t\t\t\t<uptake_rate units=\"1/min\">0</uptake_rate>\n",
    "\t\t\t\t\t</substrate> \t\n",
    "\t\t\t\t\t<substrate name=\"debris\">\n",
    "\t\t\t\t\t\t<uptake_rate units=\"1/min\">0</uptake_rate>\n",
    "\t\t\t\t\t</substrate> \t\n",
    "\t\t\t\t</secretion>\n",
    "\n",
    "\t\t\t</phenotype>\n",
    "\t\t\t<custom_data>\n",
    "\t\t\t</custom_data>\n",
    "\t\t</cell_definition>\n",
    "```"
   ]
  },
  {
   "cell_type": "markdown",
   "id": "1b090c3b",
   "metadata": {},
   "source": [
    "#### From lines  1044-1049: Parameters for fibroblasts recruitment\n",
    "\n",
    "```c++\n",
    "<fibroblast_max_recruitment_rate type=\"double\" units=\"cells/min/micron^3\"\n",
    "\t\t\t\tdescription=\"max fibroblast cell recruitment rate (for saturated signal)\">4e-9</fibroblast_max_recruitment_rate> \n",
    "\t\t\t<fibroblast_recruitment_min_signal type=\"double\" units=\"substrate/micron^3\"\n",
    "\t\t\t\tdescription=\"min concentration to attract fibroblast cells\">7.1092</fibroblast_recruitment_min_signal> \n",
    "\t\t\t<fibroblast_recruitment_saturation_signal type=\"double\" units=\"substrate/micron^3\"\n",
    "\t\t\t\tdescription=\"saturating concentration to attract fibroblast cells\">22.928</fibroblast_recruitment_saturation_signal> \n",
    "```"
   ]
  },
  {
   "cell_type": "markdown",
   "id": "94ba7da8",
   "metadata": {},
   "source": [
    "#### From lines  1063-1064: Initial number of fibroblasts before infection\n",
    "\n",
    "```c++\n",
    "<number_of_fibroblast type=\"int\" units=\"none\"\n",
    "\t\t\t\tdescription=\"initial number of fibroblast cells\">57</number_of_fibroblast>\t\n",
    "```"
   ]
  }
 ],
 "metadata": {
  "kernelspec": {
   "display_name": "Python 3 (ipykernel)",
   "language": "python",
   "name": "python3"
  },
  "language_info": {
   "codemirror_mode": {
    "name": "ipython",
    "version": 3
   },
   "file_extension": ".py",
   "mimetype": "text/x-python",
   "name": "python",
   "nbconvert_exporter": "python",
   "pygments_lexer": "ipython3",
   "version": "3.9.7"
  }
 },
 "nbformat": 4,
 "nbformat_minor": 5
}
